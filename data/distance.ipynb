{
 "metadata": {
  "language_info": {
   "codemirror_mode": {
    "name": "ipython",
    "version": 3
   },
   "file_extension": ".py",
   "mimetype": "text/x-python",
   "name": "python",
   "nbconvert_exporter": "python",
   "pygments_lexer": "ipython3",
   "version": "3.8.6-final"
  },
  "orig_nbformat": 2,
  "kernelspec": {
   "name": "python386jvsc74a57bd04ea0e157563bacde0b7fd8dc93db6051c9678d5eadbd4117abf1a4cecbc8cd1a",
   "display_name": "Python 3.8.6 64-bit ('tf': conda)"
  },
  "metadata": {
   "interpreter": {
    "hash": "4ea0e157563bacde0b7fd8dc93db6051c9678d5eadbd4117abf1a4cecbc8cd1a"
   }
  }
 },
 "nbformat": 4,
 "nbformat_minor": 2,
 "cells": [
  {
   "cell_type": "code",
   "execution_count": 1,
   "metadata": {},
   "outputs": [],
   "source": [
    "import pandas as pd\n",
    "import googlemaps \n",
    "import requests"
   ]
  },
  {
   "cell_type": "code",
   "execution_count": 2,
   "metadata": {},
   "outputs": [],
   "source": [
    "filename = 'train.csv'\n",
    "base_url = 'http://router.project-osrm.org/route/v1/driving/{},{};{},{}?overview=false'\n",
    "df = pd.read_csv(filename)"
   ]
  },
  {
   "cell_type": "code",
   "execution_count": 7,
   "metadata": {},
   "outputs": [
    {
     "output_type": "stream",
     "name": "stdout",
     "text": [
      "http://router.project-osrm.org/route/v1/driving/-73.98215484619139,40.76793670654297;-73.96463012695312,40.765602111816406?overview=false\n{\"code\":\"Ok\",\"waypoints\":[{\"hint\":\"BQgSgP___38DAAAABgAAADkAAAASAAAAOXosQGvVKUDjRk5CbYuFQQMAAAAGAAAAOQAAABIAAAB6RAAAlB6X-30RbgI1H5f7wRFuAgsAbwkH661T\",\"distance\":15.548833,\"location\":[-73.982316,40.767869],\"name\":\"Columbus Circle\"},{\"hint\":\"30MwhP___380AAAAZQAAAAAAAAAAAAAAGZ2hQqOkk0IAAAAAAAAAADQAAABlAAAAAAAAAAAAAAB6RAAAwGOX-78IbgKqY5f7oghuAgAAfwcH661T\",\"distance\":3.717588,\"location\":[-73.964608,40.765631],\"name\":\"East 65th Street\"}],\"routes\":[{\"legs\":[{\"steps\":[],\"weight\":165.5,\"distance\":2009.9,\"summary\":\"\",\"duration\":165.5}],\"weight_name\":\"routability\",\"weight\":165.5,\"distance\":2009.9,\"duration\":165.5}]}\n"
     ]
    }
   ],
   "source": [
    "distances = np.zeros(len(df))\n",
    "for i in df.index:\n",
    "    pickup_longitude  = df.pickup_longitude[i]\n",
    "    pickup_latitude  = df.pickup_latitude[i]\n",
    "    dropoff_longitude  = df.dropoff_longitude[i]\n",
    "    dropoff_latitude  = df.dropoff_latitude[i]\n",
    "    url = base_url.format(pickup_longitude,pickup_latitude,dropoff_longitude,dropoff_latitude)\n",
    "    res = requests.get(url)\n",
    "    distances[i] = res\n",
    "    break"
   ]
  },
  {
   "cell_type": "code",
   "execution_count": null,
   "metadata": {},
   "outputs": [],
   "source": []
  }
 ]
}